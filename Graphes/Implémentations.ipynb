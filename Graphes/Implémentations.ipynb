{
 "cells": [
  {
   "cell_type": "markdown",
   "metadata": {},
   "source": [
    "# Graphes non-orientés\n",
    "\n",
    "Dans ce notebook, on s'intéresse aux graphes simples (une arête au maximum entre deux sommets et pas de boucles).\n",
    "\n",
    "## Implémentations\n",
    "\n",
    "On étudie ici différentes implémentations possibles pour un tel type de graphe.\n",
    "\n",
    "On considère le graphe suivant :\n",
    "![](graphviz3.png)\n",
    "Il s'agit du graphe de l'exercice d'aquariophilie."
   ]
  },
  {
   "cell_type": "markdown",
   "metadata": {},
   "source": [
    "### Implémentation 1 : matrice d'adjacence\n",
    "On propose de l'implémenter en reprenant le tableau de l'exercice :\n",
    "\n",
    "![](tableau_poissons.png)\n",
    "\n",
    "Il s'agit de créer une matrice (tableau à deux dimensions) sous la forme d'un tableau de 8 lignes sur 8 colonnes.\n",
    "\n",
    "Cette matrice, appelé _matrice d'adjacence_, indique les adjacences (voisinages) et donc dans le cas de l'exercice : les poissons incompatibles.\n",
    "\n",
    "On placera 0 si les poissons sont compatibles et 1 dans le cas contraire. L'implémentation peut se faire sous la forme d'une liste de listes "
   ]
  },
  {
   "cell_type": "code",
   "execution_count": null,
   "metadata": {},
   "outputs": [],
   "source": [
    "incompatibilites= [\n",
    "    [0, 1, 1, 1, # à compléter\n",
    "     # à compléter\n",
    "]\n",
    "incompatibilites"
   ]
  },
  {
   "cell_type": "markdown",
   "metadata": {},
   "source": [
    "Créer une fonction qui permet de vérifier que la matrice ainsi saisie est bien symétrique. Elle prend en argument une matrice sous forme d'un tableau de tableaux et renvoie donc logiquement un booléen."
   ]
  },
  {
   "cell_type": "code",
   "execution_count": null,
   "metadata": {},
   "outputs": [],
   "source": [
    "def est_symetrique(matrice):\n",
    "    n = len(matrice)\n",
    "    # à compléter\n",
    "\n",
    "est_symetrique(incompatibilites)"
   ]
  },
  {
   "cell_type": "markdown",
   "metadata": {},
   "source": [
    "### Test : \n",
    "1. quels sont les poissons incompatibles avec F ?\n",
    "2. quels sont les poissons incompatibles avec D ou F (l'un ou l'autre ou les deux) mais compatibles avec B ? On créera deux fonctions prenant en argument un poisson et renvoyant un ensemble (`set`) de poissons compatibles/incompatibles.\n",
    "3. combien de poissons sont compatibles avec A ?"
   ]
  },
  {
   "cell_type": "code",
   "execution_count": null,
   "metadata": {},
   "outputs": [],
   "source": [
    "from string import ascii_uppercase as au\n",
    "\n",
    "\n",
    "#question 1\n",
    "indice = au.index(\"F\")\n",
    "liste = incompatibilites[indice]\n",
    "for i in range(# à compléter"
   ]
  },
  {
   "cell_type": "code",
   "execution_count": null,
   "metadata": {},
   "outputs": [],
   "source": [
    "# question 2\n",
    "def liste_incompatibles(poisson):\n",
    "    indice = au.index(poisson)\n",
    "    liste = incompatibilites[indice]\n",
    "    resultat = set()\n",
    "    # à compléter\n",
    "\n",
    "def liste_compatibles(poisson):\n",
    "    indice = au.index(poisson)\n",
    "    liste = incompatibilites[indice]\n",
    "    resultat = set()\n",
    "    # à compléter\n",
    "\n",
    "liste_incompatibles(\"D\").union(#à compléter"
   ]
  },
  {
   "cell_type": "code",
   "execution_count": null,
   "metadata": {},
   "outputs": [],
   "source": [
    "# question 3\n",
    "len(# à compléter"
   ]
  },
  {
   "cell_type": "markdown",
   "metadata": {},
   "source": [
    "## Implémentation 2 : liste d'adjacence (ou de successeurs)\n",
    "\n",
    "\n",
    "Il s'agit de créer une liste des listes de voisins pour chaque sommet. Avec Python, on peut implémenter cela avec un dictionnaire dont les clés sont les sommets et les valeurs sont les listes de sommets adjacents :"
   ]
  },
  {
   "cell_type": "code",
   "execution_count": null,
   "metadata": {},
   "outputs": [],
   "source": [
    "incompatibilites = {\n",
    "    \"A\": [\"B\", \"C\",# à compléter\n",
    "}\n",
    "incompatibilites"
   ]
  },
  {
   "cell_type": "markdown",
   "metadata": {},
   "source": [
    "Créer une fonction qui permet de vérifier transformer ce dictionnaire en la matrice vue précédemment.\n",
    "\n",
    "Algorithme :\n",
    " - on initialise une matrice remplie de 0 avec les bonnes dimensions\n",
    " - on parcourt clé par clé : normalement dans l'ordre A à H => de 0 à 7 en utilisant une variable i\n",
    " - Pour chaque clé:\n",
    "     - pour chaque élément de la liste (valeur de clé):\n",
    "         - on trouve la position de l'élément dans l'alphabet\n",
    "         - on met 1 à cet endroit"
   ]
  },
  {
   "cell_type": "code",
   "execution_count": null,
   "metadata": {},
   "outputs": [],
   "source": [
    "from string import ascii_uppercase as au\n",
    "\n",
    "\n",
    "def vers_matrice(dico):\n",
    "    dim = len(dico)\n",
    "    matrice = [[0] * dim for _ in range(dim)]\n",
    "    i = 0\n",
    "    for k in dico:\n",
    "        # à compléter\n",
    "        \n",
    "vers_matrice(incompatibilites)"
   ]
  },
  {
   "cell_type": "code",
   "execution_count": null,
   "metadata": {},
   "outputs": [],
   "source": [
    "est_symetrique(vers_matrice(incompatibilites))"
   ]
  },
  {
   "cell_type": "markdown",
   "metadata": {},
   "source": [
    "## Implémentation avec orientation objet et matrice d'adjacence\n",
    "\n",
    "On crée une classe Graphe. Chaque objet possède trois attributs :\n",
    " - la liste des sommets\n",
    " - l'ordre du graphe\n",
    " - la matrice d'adjacence\n",
    " \n",
    "Les méthodes que la classe gère sont :\n",
    " - `ajouter_arete(S1, S2) : sommet x sommet -> None`\n",
    " - `voisins(S): sommet -> liste(sommet)`\n",
    " "
   ]
  },
  {
   "cell_type": "code",
   "execution_count": null,
   "metadata": {},
   "outputs": [],
   "source": [
    "class Graphe:\n",
    "    def __init__(self, sommets):\n",
    "        self.sommets = sommets\n",
    "        self._dim = len(sommets)\n",
    "        self._matrice = [[0] * self._dim for _ in range(self._dim)]\n",
    "    \n",
    "    def ajouter_arete(self, sommet_1, sommet_2):\n",
    "        # à compléter\n",
    "\n",
    "    def voisins(self, sommet):\n",
    "        # à compléter"
   ]
  },
  {
   "cell_type": "markdown",
   "metadata": {},
   "source": [
    "On teste :\n"
   ]
  },
  {
   "cell_type": "code",
   "execution_count": null,
   "metadata": {},
   "outputs": [],
   "source": [
    "from string import ascii_uppercase as au\n",
    "\n",
    "G = Graphe(list(au[:8]))\n",
    "print(G.sommets)\n",
    "G.ajouter_arete('A', 'B')\n",
    "G.ajouter_arete('A', 'C')\n",
    "G.ajouter_arete('A', 'D')\n",
    "G.ajouter_arete('A', 'G')\n",
    "G.ajouter_arete('A', 'H')\n",
    "G.ajouter_arete('B', 'E')\n",
    "G.ajouter_arete('B', 'F')\n",
    "G.ajouter_arete('B', 'G')\n",
    "print(G.voisins('A'))"
   ]
  },
  {
   "cell_type": "markdown",
   "metadata": {},
   "source": [
    "## Implémentation avec orientation objet et liste de successeurs\n",
    "\n",
    "On crée une classe Graphe. Chaque objet possède deux attributs :\n",
    " - la liste des sommets\n",
    " - un dictionnaire d'adjacence : les clés sont les sommets et les valeurs sont les sommets adjacents sous forme d'une liste.\n",
    " \n",
    "Les méthodes que la classe gère sont :\n",
    " - `ajouter_arete(S1, S2) : sommet x sommet -> None`\n",
    " - `voisins(S): sommet -> liste(sommet)` on utilise un type `set` pour éviter toute redondance"
   ]
  },
  {
   "cell_type": "code",
   "execution_count": null,
   "metadata": {},
   "outputs": [],
   "source": [
    "class Graphe:\n",
    "    def __init__(self, sommets):\n",
    "        self.sommets = sommets\n",
    "        self._adjacence = {}\n",
    "        \n",
    "    def ajouter_arete(self, sommet_1, sommet_2):\n",
    "        if sommet_1 in self._adjacence:\n",
    "            self._adjacence[sommet_1].append(sommet_2)\n",
    "        else:\n",
    "            self._adjacence = [sommet_1] = [sommet_2]\n",
    "        if sommet_2 in self._adjacence:\n",
    "            self_adjacence[sommet_2].append(sommet_1)\n",
    "        else:\n",
    "            self._adjacence[sommet_2] = [sommet_1]\n",
    "       
    "     def voisins(self, sommet):\n",
    "        # à compléter"
   ]
  },
  {
   "cell_type": "markdown",
   "metadata": {},
   "source": [
    "On teste"
   ]
  },
  {
   "cell_type": "code",
   "execution_count": null,
   "metadata": {},
   "outputs": [],
   "source": [
    "from string import ascii_uppercase as au\n",
    "\n",
    "G = Graphe(list(au[:8]))\n",
    "print(G.sommets)\n",
    "G.ajouter_arete('A', 'B')\n",
    "G.ajouter_arete('A', 'C')\n",
    "G.ajouter_arete('A', 'D')\n",
    "G.ajouter_arete('A', 'G')\n",
    "G.ajouter_arete('A', 'H')\n",
    "G.ajouter_arete('B', 'E')\n",
    "G.ajouter_arete('B', 'F')\n",
    "G.ajouter_arete('B', 'G')\n",
    "print(G.voisins('A'))"
   ]
  }
 ],
 "metadata": {
  "kernelspec": {
   "display_name": "Python 3",
   "language": "python",
   "name": "python3"
  },
  "language_info": {
   "codemirror_mode": {
    "name": "ipython",
    "version": 3
   },
   "file_extension": ".py",
   "mimetype": "text/x-python",
   "name": "python",
   "nbconvert_exporter": "python",
   "pygments_lexer": "ipython3",
   "version": "3.9.1+"
  }
 },
 "nbformat": 4,
 "nbformat_minor": 4
}

{
 "cells": [
  {
   "cell_type": "code",
   "execution_count": 5,
   "metadata": {},
   "outputs": [
    {
     "data": {
      "text/plain": [
       "[9, 8, 7, 6, 5, 4, 3, 2, 1, 0]"
      ]
     },
     "execution_count": 5,
     "metadata": {},
     "output_type": "execute_result"
    }
   ],
   "source": [
    "def tri_fusion(tab, cmp=lambda x, y: x < y):\n",
    "    longueur = len(tab)\n",
    "    if longueur == 1:\n",
    "        return tab\n",
    "    tab_gauche = tab[:longueur // 2]\n",
    "    tab_droit = tab[longueur // 2:]\n",
    "    return _fusion(tri_fusion(tab_gauche, cmp),\n",
    "                  tri_fusion(tab_droit, cmp),\n",
    "                  cmp)\n",
    "\n",
    "def _fusion(tab1, tab2, cmp):\n",
    "    tab_final = []\n",
    "    indg = indd = 0\n",
    "    # on s'arrête dès qu'on a épuisé un des deux tableaux\n",
    "    while indg < len(tab1) and indd < len(tab2):\n",
    "        if cmp(tab1[indg], tab2[indd]):\n",
    "            tab_final.append(tab1[indg])\n",
    "            indg += 1\n",
    "        else:\n",
    "            tab_final.append(tab2[indd])\n",
    "            indd += 1\n",
    "    # on ajoute le reste des éléments non parcourus\n",
    "    # donc possiblement des tableaux vides\n",
    "    tab_final += tab1[indg:] + tab2[indd:]\n",
    "    \n",
    "    return tab_final\n",
    "\n",
    "\n",
    "def est_plus_grand_que(x, y):\n",
    "    return x > y\n",
    "\n",
    "tri_fusion([0, 1, 2, 3, 4, 5, 6, 7, 8, 9], cmp=est_plus_grand_que)"
   ]
  },
  {
   "cell_type": "code",
   "execution_count": null,
   "metadata": {},
   "outputs": [],
   "source": []
  }
 ],
 "metadata": {
  "kernelspec": {
   "display_name": "Python 3",
   "language": "python",
   "name": "python3"
  },
  "language_info": {
   "codemirror_mode": {
    "name": "ipython",
    "version": 3
   },
   "file_extension": ".py",
   "mimetype": "text/x-python",
   "name": "python",
   "nbconvert_exporter": "python",
   "pygments_lexer": "ipython3",
   "version": "3.9.9"
  }
 },
 "nbformat": 4,
 "nbformat_minor": 4
}
